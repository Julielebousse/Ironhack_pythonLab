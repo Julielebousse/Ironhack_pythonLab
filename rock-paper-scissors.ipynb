{
 "cells": [
  {
   "cell_type": "markdown",
   "metadata": {},
   "source": [
    "<img src=\"https://bit.ly/2VnXWr2\" width=\"100\" align=\"left\">"
   ]
  },
  {
   "cell_type": "markdown",
   "metadata": {},
   "source": [
    "# Rock, Paper & Scissors\n",
    "\n",
    "Let's play the famous game against our computer. You can check the rules [here](https://en.wikipedia.org/wiki/Rock%E2%80%93paper%E2%80%93scissors). \n",
    "\n",
    "## Task\n",
    "Create a program that imitates the playability of the well known game of rock, paper, scissors. Follow the guidelines provided.\n",
    "\n",
    "## Tools\n",
    "1. Loop: **for/while**\n",
    "2. Functions: **input(), print()...**\n",
    "3. Conditional statements: **if, elif, else**\n",
    "4. Definition of functions. Modular programming\n",
    "5. Import modules\n",
    "\n",
    "**To solve this challenge, the use of functions is recommended.**\n",
    "\n",
    "#### 1. Import the choice function of the random module."
   ]
  },
  {
   "cell_type": "code",
   "execution_count": 1,
   "metadata": {},
   "outputs": [],
   "source": [
    "import random"
   ]
  },
  {
   "cell_type": "markdown",
   "metadata": {},
   "source": [
    "#### 2. Create a list that includes the 3 possible gesture options of the game: 'rock', 'paper' or 'scissors'. Store the list in a variable called `gestures`."
   ]
  },
  {
   "cell_type": "code",
   "execution_count": 2,
   "metadata": {},
   "outputs": [],
   "source": [
    "gestures = [1, 2, 3]"
   ]
  },
  {
   "cell_type": "markdown",
   "metadata": {},
   "source": [
    "#### 3. Create a variable called `n_rounds` to store the maximum number of rounds to play in a game. \n",
    "Remember that the number of rounds must be odd: 1, 3, 5, ..."
   ]
  },
  {
   "cell_type": "code",
   "execution_count": 3,
   "metadata": {},
   "outputs": [],
   "source": [
    "n_rounds = 5"
   ]
  },
  {
   "cell_type": "markdown",
   "metadata": {},
   "source": [
    "#### 4. Create a variable called `rounds_to_win` to store the number of rounds that a player must win to win the game.\n",
    "**Hint**: the value stored in `rounds_to_win` depends on the value of `n_rounds`. "
   ]
  },
  {
   "cell_type": "code",
   "execution_count": 5,
   "metadata": {},
   "outputs": [],
   "source": [
    "import math\n",
    "rounds_to_win = math.ceil(n_rounds/2)"
   ]
  },
  {
   "cell_type": "markdown",
   "metadata": {},
   "source": [
    "#### 5. Create two variables to store the number of rounds that the computer and the player have won. Call these variables `cpu_score` and `player_score`."
   ]
  },
  {
   "cell_type": "code",
   "execution_count": 6,
   "metadata": {},
   "outputs": [],
   "source": [
    "cpu_score = 0\n",
    "player_score = 0"
   ]
  },
  {
   "cell_type": "markdown",
   "metadata": {},
   "source": [
    "#### 6. Define a function that randomly returns one of the 3 gesture options.\n",
    "You will use this function to simulate the gesture choice of the computer. "
   ]
  },
  {
   "cell_type": "code",
   "execution_count": 7,
   "metadata": {},
   "outputs": [],
   "source": [
    "def gesture_choice():\n",
    "    result = random.choice(gestures)\n",
    "    return result"
   ]
  },
  {
   "cell_type": "markdown",
   "metadata": {},
   "source": [
    "#### 7. Define a function that asks the player which is the gesture he or she wants to show: 'rock', 'paper' or 'scissors'.\n",
    "The player should only be allowed to choose one of the 3 gesture options. If the player's choice is not rock, paper or scissors, keep asking until it is."
   ]
  },
  {
   "cell_type": "code",
   "execution_count": 8,
   "metadata": {},
   "outputs": [
    {
     "name": "stdout",
     "output_type": "stream",
     "text": [
      "1) Rock!\n",
      "2) Paper!\n",
      "3) Scissors!\n"
     ]
    },
    {
     "name": "stdin",
     "output_type": "stream",
     "text": [
      "Please make a selection:   1\n"
     ]
    },
    {
     "name": "stdout",
     "output_type": "stream",
     "text": [
      "1\n"
     ]
    }
   ],
   "source": [
    "def player_possibility():\n",
    "\n",
    "    print('1) Rock!')\n",
    "    print('2) Paper!')\n",
    "    print('3) Scissors!')\n",
    "\n",
    "    player_selection = int(input('Please make a selection:  '))\n",
    "    return player_selection\n",
    "\n",
    "player_selection = player_possibility()\n",
    "print(player_selection)"
   ]
  },
  {
   "cell_type": "markdown",
   "metadata": {},
   "source": [
    "#### 8. Define a function that checks who won a round. \n",
    "The function should return 0 if there is a tie, 1 if the computer wins and 2 if the player wins."
   ]
  },
  {
   "cell_type": "code",
   "execution_count": 9,
   "metadata": {},
   "outputs": [
    {
     "name": "stdout",
     "output_type": "stream",
     "text": [
      "1) Rock!\n",
      "2) Paper!\n",
      "3) Scissors!\n"
     ]
    },
    {
     "name": "stdin",
     "output_type": "stream",
     "text": [
      "Please make a selection:   1\n"
     ]
    },
    {
     "data": {
      "text/plain": [
       "0"
      ]
     },
     "execution_count": 9,
     "metadata": {},
     "output_type": "execute_result"
    }
   ],
   "source": [
    "player_choice = player_possibility()\n",
    "computer_choice = gesture_choice()\n",
    "\n",
    "def round_result(computer_selection , player_selection):\n",
    "       \n",
    "    if computer_selection == 1:\n",
    "        if player_selection == 2:\n",
    "            score = 2\n",
    "        elif player_selection == 3:\n",
    "            score = 1\n",
    "        else:\n",
    "            score = 0\n",
    "        \n",
    "    if computer_selection == 2:\n",
    "        if player_selection == 2:\n",
    "            score = 0\n",
    "        elif player_selection == 3:\n",
    "            score = 2\n",
    "        else:\n",
    "            score = 1\n",
    "            \n",
    "    if computer_selection == 3:\n",
    "        if player_selection == 2:\n",
    "            score = 1\n",
    "        elif player_selection == 3:\n",
    "            score = 0\n",
    "        else:\n",
    "            score = 2\n",
    "            \n",
    "    return score\n",
    "\n",
    "round_result(computer_choice , player_choice)"
   ]
  },
  {
   "cell_type": "markdown",
   "metadata": {},
   "source": [
    "#### 9. Define a function that prints the choice of the computer, the choice of the player and a message that announces who won the current round. \n",
    "You should also use this function to update the variables that count the number of rounds that the computer and the player have won. The score of the winner increases by one point. If there is a tie, the score does not increase."
   ]
  },
  {
   "cell_type": "code",
   "execution_count": 10,
   "metadata": {},
   "outputs": [
    {
     "name": "stdout",
     "output_type": "stream",
     "text": [
      "1) Rock!\n",
      "2) Paper!\n",
      "3) Scissors!\n"
     ]
    },
    {
     "name": "stdin",
     "output_type": "stream",
     "text": [
      "Please make a selection:   1\n"
     ]
    },
    {
     "name": "stdout",
     "output_type": "stream",
     "text": [
      "Rock smashes scissors. You win!\n",
      "(0, 1)\n",
      "0 1\n"
     ]
    }
   ],
   "source": [
    "computer_score = 0\n",
    "player_score = 0\n",
    "\n",
    "def game_result(computer_nb_victory , player_nb_victory):\n",
    "    \n",
    "    var1 = gesture_choice()\n",
    "    var2 = player_possibility()\n",
    "    var3 = round_result(var1 , var2)\n",
    "\n",
    "    if var3 == 1:\n",
    "        if var1 == 1:\n",
    "            if var2 == 3:\n",
    "                score = 1\n",
    "                print(\"Rock smashes scissors. The computer wins!\")\n",
    "                computer_nb_victory += 1\n",
    "\n",
    "        if var1 == 3:\n",
    "            if var2 == 2:\n",
    "                score = 1\n",
    "                print(\"Scissors cut paper. The computer wins!\")\n",
    "                computer_nb_victory += 1\n",
    "\n",
    "        if var1 == 2:\n",
    "            if var2 == 1:\n",
    "                score = 1\n",
    "                print(\"Paper wraps rock. The computer wins!\")\n",
    "                computer_nb_victory += 1\n",
    "\n",
    "    elif var3 == 2:\n",
    "        if var1 == 1:\n",
    "            if var2 == 2:\n",
    "                score = 2\n",
    "                print(\"Paper wraps rock. You win!\")\n",
    "                player_nb_victory += 1\n",
    "\n",
    "        if var1 == 2:\n",
    "            if var2 == 3:\n",
    "                score = 2\n",
    "                print(\"Scissors cut paper. You win!\")\n",
    "                player_nb_victory += 1\n",
    "\n",
    "        if var1 == 3:\n",
    "            if var2 == 1:\n",
    "                score = 2\n",
    "                print(\"Rock smashes scissors. You win!\")\n",
    "                player_nb_victory += 1\n",
    "\n",
    "\n",
    "    elif var3 == 0:\n",
    "        if var1 == 1:\n",
    "            if var2 == 1:\n",
    "                score = 0\n",
    "                print(\"The game is tied. Try again.\")\n",
    "                winner = 'tied'\n",
    "\n",
    "            if var1 == 2:\n",
    "                if var2 == 2:\n",
    "                    score = 0\n",
    "                    print(\"The game is tied. Try again.\")\n",
    "                    winner = 'tied'\n",
    "\n",
    "            if var1 == 3:\n",
    "                if var2 == 3:\n",
    "                    score = 0\n",
    "                    print(\"The game is tied. Try again.\")\n",
    "                    winner = 'tied'\n",
    "\n",
    "    return computer_nb_victory , player_nb_victory\n",
    "final_result = game_result(computer_score , player_score)\n",
    "print(final_result)\n",
    "computer_score = final_result[0]\n",
    "player_score = final_result[1]\n",
    "print(computer_score , player_score)"
   ]
  },
  {
   "cell_type": "markdown",
   "metadata": {},
   "source": [
    "#### 10. Now it's time to code the execution of the game using the functions and variables you defined above. \n",
    "\n",
    "First, create a loop structure that repeats while no player reaches the minimum score necessary to win and the number of rounds is less than the maximum number of rounds to play in a game.  \n",
    "\n",
    "Inside the loop, use the functions and variables above to create the execution of a round: ask for the player's choice, generate the random choice of the computer, show the round results, update the scores, etc. "
   ]
  },
  {
   "cell_type": "code",
   "execution_count": 21,
   "metadata": {},
   "outputs": [
    {
     "name": "stdout",
     "output_type": "stream",
     "text": [
      "1) Rock!\n",
      "2) Paper!\n",
      "3) Scissors!\n"
     ]
    },
    {
     "name": "stdin",
     "output_type": "stream",
     "text": [
      "Please make a selection:   1\n"
     ]
    },
    {
     "name": "stdout",
     "output_type": "stream",
     "text": [
      "Rock smashes scissors. You win!\n",
      "(0, 1)\n",
      "0\n",
      "1\n",
      "1) Rock!\n",
      "2) Paper!\n",
      "3) Scissors!\n"
     ]
    },
    {
     "name": "stdin",
     "output_type": "stream",
     "text": [
      "Please make a selection:   1\n"
     ]
    },
    {
     "name": "stdout",
     "output_type": "stream",
     "text": [
      "The game is tied. Try again.\n",
      "(0, 1)\n",
      "0\n",
      "1\n",
      "1) Rock!\n",
      "2) Paper!\n",
      "3) Scissors!\n"
     ]
    },
    {
     "name": "stdin",
     "output_type": "stream",
     "text": [
      "Please make a selection:   1\n"
     ]
    },
    {
     "name": "stdout",
     "output_type": "stream",
     "text": [
      "Paper wraps rock. The computer wins!\n",
      "(1, 1)\n",
      "1\n",
      "1\n",
      "1) Rock!\n",
      "2) Paper!\n",
      "3) Scissors!\n"
     ]
    },
    {
     "name": "stdin",
     "output_type": "stream",
     "text": [
      "Please make a selection:   1\n"
     ]
    },
    {
     "name": "stdout",
     "output_type": "stream",
     "text": [
      "Rock smashes scissors. You win!\n",
      "(1, 2)\n",
      "1\n",
      "2\n",
      "You won\n"
     ]
    }
   ],
   "source": [
    "computer_score = 0\n",
    "player_score = 0\n",
    "number_victory = 0\n",
    "winner = 0\n",
    "i = 0\n",
    "\n",
    "for i in range(5):\n",
    "    \n",
    "    while computer_score < 2 and player_score < 2:\n",
    "        final_result = game_result(computer_score , player_score)\n",
    "        print(final_result)\n",
    "        computer_score = final_result[0]\n",
    "        print(computer_score)\n",
    "        player_score = final_result[1]\n",
    "        print(player_score)\n",
    "            \n",
    "if computer_score >= 2:\n",
    "    print(\"The computer won\")\n",
    "elif player_score >= 2:\n",
    "    print(\"You won\")\n",
    "elif computer_score == player_score:\n",
    "    print(\"The game is tied\")"
   ]
  },
  {
   "cell_type": "markdown",
   "metadata": {},
   "source": [
    "#### 11. Print the winner of the game based on who won more rounds.\n",
    "Remember that the game might be tied. "
   ]
  },
  {
   "cell_type": "code",
   "execution_count": 22,
   "metadata": {},
   "outputs": [
    {
     "name": "stdout",
     "output_type": "stream",
     "text": [
      "You won\n"
     ]
    }
   ],
   "source": [
    "if computer_score >= 2:\n",
    "    print(\"The computer won\")\n",
    "elif player_score >= 2:\n",
    "    print(\"You won\")\n",
    "elif computer_score == player_score:\n",
    "    print(\"The game is tied\")"
   ]
  },
  {
   "cell_type": "markdown",
   "metadata": {},
   "source": [
    "# Bonus: Rock, Paper, Scissors, Lizard & Spock\n",
    "![](images/rpsls.jpg)\n",
    "\n",
    "In this challenge, you need to improve the previous game by adding two new options. To know more about the rules of the improved version of rock, paper, scissors, check this [link](http://www.samkass.com/theories/RPSSL.html). \n",
    "\n",
    "In addition, you will also need to improve how the game interacts with the player: the number of rounds to play, which must be an odd number, will be requested to the user until a valid number is entered. Define a new function to make that request.\n",
    "\n",
    "**Hint**: Try to reuse the code that you already coded in the previous challenge. If your code is efficient, this bonus will only consist of simple modifications to the original game."
   ]
  },
  {
   "cell_type": "code",
   "execution_count": null,
   "metadata": {},
   "outputs": [],
   "source": []
  }
 ],
 "metadata": {
  "kernelspec": {
   "display_name": "Python 3",
   "language": "python",
   "name": "python3"
  },
  "language_info": {
   "codemirror_mode": {
    "name": "ipython",
    "version": 3
   },
   "file_extension": ".py",
   "mimetype": "text/x-python",
   "name": "python",
   "nbconvert_exporter": "python",
   "pygments_lexer": "ipython3",
   "version": "3.8.3"
  }
 },
 "nbformat": 4,
 "nbformat_minor": 4
}
